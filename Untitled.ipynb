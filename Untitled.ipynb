{
 "cells": [
  {
   "cell_type": "code",
   "execution_count": 2,
   "id": "34147175-a388-4229-ab2e-98dc74c8dbfa",
   "metadata": {},
   "outputs": [],
   "source": [
    "# Step 1: Setup and Imports"
   ]
  },
  {
   "cell_type": "code",
   "execution_count": 5,
   "id": "2e8a47b6-d014-4eba-82f2-affc4ff6acab",
   "metadata": {},
   "outputs": [],
   "source": [
    "import pandas as pd\n",
    "import numpy as np\n",
    "import matplotlib.pyplot as plt\n",
    "import seaborn as sns\n",
    "\n",
    "from sklearn.model_selection import train_test_split\n",
    "from sklearn.ensemble import RandomForestRegressor\n",
    "from sklearn.multioutput import MultiOutputRegressor\n",
    "from sklearn.metrics import mean_squared_error, r2_score\n",
    "\n",
    "import shap\n",
    "import lime\n",
    "import lime.lime_tabular\n",
    "import joblib\n"
   ]
  },
  {
   "cell_type": "code",
   "execution_count": 6,
   "id": "c43fa9cd-11d1-4ea7-bc36-86c3f4913b96",
   "metadata": {},
   "outputs": [],
   "source": [
    "# import kagglehub\n",
    "\n",
    "# # Download latest version\n",
    "# path = kagglehub.dataset_download(\"rohanrao/air-quality-data-in-india\")\n",
    "\n",
    "# print(\"Path to dataset files:\", path)\n"
   ]
  },
  {
   "cell_type": "code",
   "execution_count": 7,
   "id": "2d339f55-632e-49ab-bb3c-10e7366f1df4",
   "metadata": {},
   "outputs": [
    {
     "name": "stderr",
     "output_type": "stream",
     "text": [
      "C:\\Users\\Admin\\AppData\\Local\\Temp\\ipykernel_25172\\3700043658.py:2: DtypeWarning: Columns (15) have mixed types. Specify dtype option on import or set low_memory=False.\n",
      "  station_hour_df = pd.read_csv(\"station_hour.csv\")\n"
     ]
    },
    {
     "name": "stdout",
     "output_type": "stream",
     "text": [
      "Index(['StationId', 'StationName', 'City', 'State', 'Status'], dtype='object')\n",
      "Index(['StationId', 'Datetime', 'PM2.5', 'PM10', 'NO', 'NO2', 'NOx', 'NH3',\n",
      "       'CO', 'SO2', 'O3', 'Benzene', 'Toluene', 'Xylene', 'AQI', 'AQI_Bucket'],\n",
      "      dtype='object')\n"
     ]
    }
   ],
   "source": [
    "stations_df = pd.read_csv(\"stations.csv\")\n",
    "station_hour_df = pd.read_csv(\"station_hour.csv\")\n",
    "\n",
    "# Merge to get City and State from StationId\n",
    "df = pd.merge(station_hour_df, stations_df, on='StationId', how='left')\n",
    "\n",
    "# View columns\n",
    "print(stations_df.columns)\n",
    "print(station_hour_df.columns)\n"
   ]
  },
  {
   "cell_type": "code",
   "execution_count": 8,
   "id": "40429f34-5ec9-4b97-95a2-2b03c6d6e219",
   "metadata": {},
   "outputs": [],
   "source": [
    "# Keep only useful columns\n",
    "df = df[['Datetime', 'City', 'PM2.5', 'PM10', 'NO2', 'SO2']]\n",
    "\n",
    "# Drop rows with missing target values\n",
    "df = df.dropna()\n"
   ]
  },
  {
   "cell_type": "code",
   "execution_count": 9,
   "id": "14397b52-f71f-4189-8614-9c49db8babf5",
   "metadata": {},
   "outputs": [
    {
     "name": "stdout",
     "output_type": "stream",
     "text": [
      "                    Datetime       City  PM2.5    PM10    NO2    SO2\n",
      "0        2017-11-24 17:00:00  Amaravati  60.50   98.00  30.80  11.85\n",
      "1        2017-11-24 18:00:00  Amaravati  65.50  111.25  24.20  13.17\n",
      "2        2017-11-24 19:00:00  Amaravati  80.00  132.00  25.18  12.08\n",
      "3        2017-11-24 20:00:00  Amaravati  81.50  133.25  16.25  10.47\n",
      "4        2017-11-24 21:00:00  Amaravati  75.25  116.00  17.48   9.12\n",
      "...                      ...        ...    ...     ...    ...    ...\n",
      "2589078  2020-06-30 20:00:00    Kolkata  15.55   47.80  35.08   9.40\n",
      "2589079  2020-06-30 21:00:00    Kolkata  15.23   42.30  26.78   4.91\n",
      "2589080  2020-06-30 22:00:00    Kolkata  11.40   40.95  19.53   3.81\n",
      "2589081  2020-06-30 23:00:00    Kolkata   9.25   34.33  21.85   3.44\n",
      "2589082  2020-07-01 00:00:00    Kolkata  10.50   36.50  22.50   2.80\n",
      "\n",
      "[1115337 rows x 6 columns]\n"
     ]
    }
   ],
   "source": [
    "print(df)"
   ]
  },
  {
   "cell_type": "code",
   "execution_count": 10,
   "id": "f793fd65-da43-458b-9985-b61e8ae57149",
   "metadata": {},
   "outputs": [],
   "source": [
    "df['Datetime'] = pd.to_datetime(df['Datetime'])\n",
    "\n",
    "df['Hour'] = df['Datetime'].dt.hour\n",
    "df['Day'] = df['Datetime'].dt.day\n",
    "df['Month'] = df['Datetime'].dt.month\n",
    "df['Weekday'] = df['Datetime'].dt.weekday  # 0 = Monday\n"
   ]
  },
  {
   "cell_type": "code",
   "execution_count": 11,
   "id": "1c32dbf7-8833-4ccf-9651-9274009db631",
   "metadata": {},
   "outputs": [],
   "source": [
    "from sklearn.preprocessing import LabelEncoder\n",
    "\n",
    "le = LabelEncoder()\n",
    "df['City_encoded'] = le.fit_transform(df['City'])\n"
   ]
  },
  {
   "cell_type": "code",
   "execution_count": 12,
   "id": "9bff960b-fa23-4e9f-8b3c-b1fa78caac17",
   "metadata": {},
   "outputs": [],
   "source": [
    "features = ['Hour', 'Day', 'Month', 'Weekday', 'City_encoded']\n",
    "targets = ['PM2.5', 'PM10', 'NO2', 'SO2']\n",
    "\n",
    "X = df[features]\n",
    "y = df[targets]\n"
   ]
  },
  {
   "cell_type": "code",
   "execution_count": 13,
   "id": "6f46a50d-9959-4ce8-9cec-2ec679e827d0",
   "metadata": {},
   "outputs": [
    {
     "name": "stdout",
     "output_type": "stream",
     "text": [
      "         Hour  Day  Month  Weekday  City_encoded\n",
      "0          17   24     11        4             2\n",
      "1          18   24     11        4             2\n",
      "2          19   24     11        4             2\n",
      "3          20   24     11        4             2\n",
      "4          21   24     11        4             2\n",
      "...       ...  ...    ...      ...           ...\n",
      "2589078    20   30      6        1            18\n",
      "2589079    21   30      6        1            18\n",
      "2589080    22   30      6        1            18\n",
      "2589081    23   30      6        1            18\n",
      "2589082     0    1      7        2            18\n",
      "\n",
      "[1115337 rows x 5 columns]\n"
     ]
    }
   ],
   "source": [
    "print(X)"
   ]
  },
  {
   "cell_type": "code",
   "execution_count": 14,
   "id": "45938d58-ed87-4b29-8392-47b32ed9344e",
   "metadata": {},
   "outputs": [
    {
     "name": "stdout",
     "output_type": "stream",
     "text": [
      "         PM2.5    PM10    NO2    SO2\n",
      "0        60.50   98.00  30.80  11.85\n",
      "1        65.50  111.25  24.20  13.17\n",
      "2        80.00  132.00  25.18  12.08\n",
      "3        81.50  133.25  16.25  10.47\n",
      "4        75.25  116.00  17.48   9.12\n",
      "...        ...     ...    ...    ...\n",
      "2589078  15.55   47.80  35.08   9.40\n",
      "2589079  15.23   42.30  26.78   4.91\n",
      "2589080  11.40   40.95  19.53   3.81\n",
      "2589081   9.25   34.33  21.85   3.44\n",
      "2589082  10.50   36.50  22.50   2.80\n",
      "\n",
      "[1115337 rows x 4 columns]\n"
     ]
    }
   ],
   "source": [
    "print(y)"
   ]
  },
  {
   "cell_type": "code",
   "execution_count": 15,
   "id": "bb8c7344-6ffb-4423-aed6-f534e9d32895",
   "metadata": {},
   "outputs": [],
   "source": [
    "from sklearn.model_selection import train_test_split\n",
    "\n",
    "X_train, X_test, y_train, y_test = train_test_split(X, y, test_size=0.2, random_state=42)\n"
   ]
  },
  {
   "cell_type": "code",
   "execution_count": 16,
   "id": "77a791a2-3b67-4f90-9c88-20fb5fe39485",
   "metadata": {},
   "outputs": [
    {
     "name": "stdout",
     "output_type": "stream",
     "text": [
      "Training RandomForestRegressor for each target column...\n"
     ]
    },
    {
     "name": "stderr",
     "output_type": "stream",
     "text": [
      "100%|███████████████████████████████████████████████████████████████████████████████████| 4/4 [16:46<00:00, 251.68s/it]\n"
     ]
    },
    {
     "name": "stdout",
     "output_type": "stream",
     "text": [
      "Predicting on test data...\n"
     ]
    }
   ],
   "source": [
    "from sklearn.ensemble import RandomForestRegressor\n",
    "from sklearn.base import clone\n",
    "from tqdm import tqdm\n",
    "import numpy as np\n",
    "\n",
    "models = []\n",
    "y_pred_list = []\n",
    "\n",
    "print(\"Training RandomForestRegressor for each target column...\")\n",
    "for i in tqdm(range(y_train.shape[1])):  # Loop over target columns\n",
    "    model = RandomForestRegressor(n_estimators=100, random_state=42)\n",
    "    model.fit(X_train, y_train.iloc[:, i])  # Fit one target at a time\n",
    "    models.append(model)\n",
    "\n",
    "print(\"Predicting on test data...\")\n",
    "for i, model in enumerate(models):\n",
    "    preds = model.predict(X_test)\n",
    "    y_pred_list.append(preds)\n",
    "\n",
    "# Combine all predictions column-wise\n",
    "y_pred = np.column_stack(y_pred_list)\n"
   ]
  },
  {
   "cell_type": "code",
   "execution_count": 17,
   "id": "11110ed2-f759-4c0c-a1c2-3f4622b248b4",
   "metadata": {},
   "outputs": [
    {
     "name": "stdout",
     "output_type": "stream",
     "text": [
      "PM2.5: RMSE=35.93, R²=0.81\n",
      "PM10: RMSE=76.33, R²=0.70\n",
      "NO2: RMSE=27.13, R²=0.42\n",
      "SO2: RMSE=9.98, R²=0.40\n"
     ]
    }
   ],
   "source": [
    "from sklearn.metrics import mean_squared_error, r2_score\n",
    "import numpy as np\n",
    "\n",
    "def evaluate(y_test, y_pred, y_cols):\n",
    "    for i, col in enumerate(y_cols):\n",
    "        rmse = np.sqrt(mean_squared_error(y_test.iloc[:, i], y_pred[:, i]))\n",
    "        r2 = r2_score(y_test.iloc[:, i], y_pred[:, i])\n",
    "        print(f\"{col}: RMSE={rmse:.2f}, R²={r2:.2f}\")\n",
    "\n",
    "evaluate(y_test, y_pred, targets)\n"
   ]
  },
  {
   "cell_type": "code",
   "execution_count": 33,
   "id": "8d50cf3c-628f-47f1-b0b7-cf76c1f37b8f",
   "metadata": {},
   "outputs": [],
   "source": [
    "# Predict all pollutants using your list of trained models\n",
    "y_pred_list = []\n",
    "\n",
    "for model in models:  # model for each of PM2.5, PM10, NO2, SO2\n",
    "    preds = model.predict(X_test)\n",
    "    y_pred_list.append(preds)\n",
    "\n",
    "# Stack into a 2D array\n",
    "y_pred = np.column_stack(y_pred_list)\n",
    "\n",
    "# Now you can slice like:\n",
    "pm25_preds = y_pred[:, 0]\n",
    "pm10_preds = y_pred[:, 1]\n",
    "no2_preds = y_pred[:, 2]\n",
    "so2_preds = y_pred[:, 3]\n"
   ]
  },
  {
   "cell_type": "code",
   "execution_count": 34,
   "id": "39cb47c5-38cd-449a-8ac9-1d512cd77f2f",
   "metadata": {},
   "outputs": [],
   "source": [
    "# Breakpoints: (Clow, Chigh, Ilow, Ihigh)\n",
    "pm25_bp = [(0, 30, 0, 50), (31, 60, 51, 100), (61, 90, 101, 200),\n",
    "           (91, 120, 201, 300), (121, 250, 301, 400), (251, 380, 401, 500)]\n",
    "\n",
    "pm10_bp = [(0, 50, 0, 50), (51, 100, 51, 100), (101, 250, 101, 200),\n",
    "           (251, 350, 201, 300), (351, 430, 301, 400), (431, 500, 401, 500)]\n",
    "\n",
    "no2_bp = [(0, 40, 0, 50), (41, 80, 51, 100), (81, 180, 101, 200),\n",
    "          (181, 280, 201, 300), (281, 400, 301, 400), (401, 500, 401, 500)]\n",
    "\n",
    "so2_bp = [(0, 40, 0, 50), (41, 80, 51, 100), (81, 380, 101, 200),\n",
    "          (381, 800, 201, 300), (801, 1600, 301, 400), (1601, 2000, 401, 500)]\n"
   ]
  },
  {
   "cell_type": "code",
   "execution_count": 35,
   "id": "03eb6494-fb1d-49d9-9dec-d497a6272029",
   "metadata": {},
   "outputs": [],
   "source": [
    "def get_sub_index(value, breakpoints):\n",
    "    for bp in breakpoints:\n",
    "        if bp[0] <= value <= bp[1]:\n",
    "            Clow, Chigh, Ilow, Ihigh = bp\n",
    "            return ((Ihigh - Ilow) / (Chigh - Clow)) * (value - Clow) + Ilow\n",
    "    return 500  # Cap if value is beyond max threshold\n"
   ]
  },
  {
   "cell_type": "code",
   "execution_count": 36,
   "id": "b66de501-87b3-48e0-a186-c2389f009195",
   "metadata": {},
   "outputs": [],
   "source": [
    "predicted_aqis = []\n",
    "\n",
    "for i in range(len(pm25_preds)):\n",
    "    aqi_pm25 = get_sub_index(pm25_preds[i], pm25_bp)\n",
    "    aqi_pm10 = get_sub_index(pm10_preds[i], pm10_bp)\n",
    "    aqi_no2  = get_sub_index(no2_preds[i], no2_bp)\n",
    "    aqi_so2  = get_sub_index(so2_preds[i], so2_bp)\n",
    "\n",
    "    final_aqi = max(aqi_pm25, aqi_pm10, aqi_no2, aqi_so2)\n",
    "    predicted_aqis.append(final_aqi)\n",
    "\n",
    "predicted_aqis = np.array(predicted_aqis)\n"
   ]
  },
  {
   "cell_type": "code",
   "execution_count": 37,
   "id": "9c2dfaba-44df-4387-ad88-018216539c8b",
   "metadata": {},
   "outputs": [
    {
     "name": "stdout",
     "output_type": "stream",
     "text": [
      "[243.4675     132.61930357  52.31603333 ... 105.58936579 500.\n",
      " 108.0500717 ]\n"
     ]
    }
   ],
   "source": [
    "print(predicted_aqis)"
   ]
  },
  {
   "cell_type": "code",
   "execution_count": 38,
   "id": "a78f423b-22c1-41a6-b19e-2e766e33cdcc",
   "metadata": {},
   "outputs": [
    {
     "name": "stdout",
     "output_type": "stream",
     "text": [
      "🟢 AQI Category: Moderate\n"
     ]
    }
   ],
   "source": [
    "def classify_aqi(aqi):\n",
    "    if aqi <= 50: return 'Good'\n",
    "    elif aqi <= 100: return 'Satisfactory'\n",
    "    elif aqi <= 200: return 'Moderate'\n",
    "    elif aqi <= 300: return 'Poor'\n",
    "    elif aqi <= 400: return 'Very Poor'\n",
    "    else: return 'Severe'\n",
    "\n",
    "print(f\"🟢 AQI Category: {classify_aqi(final_aqi)}\")\n"
   ]
  },
  {
   "cell_type": "code",
   "execution_count": 39,
   "id": "dcd08927-6187-4b57-a649-0cc179c04a5a",
   "metadata": {},
   "outputs": [],
   "source": [
    "def predict_aqi_from_values(pm25, pm10, no2, so2):\n",
    "    aqi_pm25 = get_sub_index(pm25, pm25_bp)\n",
    "    aqi_pm10 = get_sub_index(pm10, pm10_bp)\n",
    "    aqi_no2  = get_sub_index(no2, no2_bp)\n",
    "    aqi_so2  = get_sub_index(so2, so2_bp)\n",
    "    \n",
    "    final_aqi = max(aqi_pm25, aqi_pm10, aqi_no2, aqi_so2)\n",
    "    aqi_bucket = classify_aqi(final_aqi)\n",
    "    \n",
    "    return round(final_aqi, 2), aqi_bucket\n"
   ]
  },
  {
   "cell_type": "code",
   "execution_count": 42,
   "id": "f1e0498e-6bf0-481e-8f2f-1ac9670371c7",
   "metadata": {},
   "outputs": [
    {
     "name": "stdout",
     "output_type": "stream",
     "text": [
      "AQI: 232.07 → Category: Poor\n"
     ]
    }
   ],
   "source": [
    "aqi, category = predict_aqi_from_values(\n",
    "    pm25=100.1,\n",
    "    pm10=15.1,\n",
    "    no2=15.3,\n",
    "    so2=0.6\n",
    ")\n",
    "\n",
    "print(f\"AQI: {aqi} → Category: {category}\")\n"
   ]
  },
  {
   "cell_type": "code",
   "execution_count": null,
   "id": "ffc75daa-fa78-4a82-978a-3a0ef11e7e2a",
   "metadata": {},
   "outputs": [],
   "source": []
  }
 ],
 "metadata": {
  "kernelspec": {
   "display_name": "Python 3 (ipykernel)",
   "language": "python",
   "name": "python3"
  },
  "language_info": {
   "codemirror_mode": {
    "name": "ipython",
    "version": 3
   },
   "file_extension": ".py",
   "mimetype": "text/x-python",
   "name": "python",
   "nbconvert_exporter": "python",
   "pygments_lexer": "ipython3",
   "version": "3.12.4"
  }
 },
 "nbformat": 4,
 "nbformat_minor": 5
}
